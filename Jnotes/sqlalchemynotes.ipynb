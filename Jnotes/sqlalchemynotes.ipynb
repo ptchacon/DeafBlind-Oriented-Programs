{
 "cells": [
  {
   "cell_type": "code",
   "execution_count": 10,
   "metadata": {},
   "outputs": [],
   "source": [
    "import sqlalchemy, os, pprint"
   ]
  },
  {
   "cell_type": "code",
   "execution_count": 16,
   "metadata": {},
   "outputs": [
    {
     "name": "stdout",
     "output_type": "stream",
     "text": [
      "{'auth_group': Table('auth_group', MetaData(bind=Engine(sqlite:///db.sqlite3)), Column('id', INTEGER(), table=<auth_group>, primary_key=True, nullable=False), Column('name', VARCHAR(length=150), table=<auth_group>, nullable=False), schema=None),\n",
      " 'auth_group_permissions': Table('auth_group_permissions', MetaData(bind=Engine(sqlite:///db.sqlite3)), Column('id', INTEGER(), table=<auth_group_permissions>, primary_key=True, nullable=False), Column('group_id', INTEGER(), ForeignKey('auth_group.id'), table=<auth_group_permissions>, nullable=False), Column('permission_id', INTEGER(), ForeignKey('auth_permission.id'), table=<auth_group_permissions>, nullable=False), schema=None),\n",
      " 'auth_permission': Table('auth_permission', MetaData(bind=Engine(sqlite:///db.sqlite3)), Column('id', INTEGER(), table=<auth_permission>, primary_key=True, nullable=False), Column('content_type_id', INTEGER(), ForeignKey('django_content_type.id'), table=<auth_permission>, nullable=False), Column('codename', VARCHAR(length=100), table=<auth_permission>, nullable=False), Column('name', VARCHAR(length=255), table=<auth_permission>, nullable=False), schema=None),\n",
      " 'auth_user': Table('auth_user', MetaData(bind=Engine(sqlite:///db.sqlite3)), Column('id', INTEGER(), table=<auth_user>, primary_key=True, nullable=False), Column('password', VARCHAR(length=128), table=<auth_user>, nullable=False), Column('last_login', DATETIME(), table=<auth_user>), Column('is_superuser', BOOLEAN(), table=<auth_user>, nullable=False), Column('username', VARCHAR(length=150), table=<auth_user>, nullable=False), Column('last_name', VARCHAR(length=150), table=<auth_user>, nullable=False), Column('email', VARCHAR(length=254), table=<auth_user>, nullable=False), Column('is_staff', BOOLEAN(), table=<auth_user>, nullable=False), Column('is_active', BOOLEAN(), table=<auth_user>, nullable=False), Column('date_joined', DATETIME(), table=<auth_user>, nullable=False), Column('first_name', VARCHAR(length=150), table=<auth_user>, nullable=False), schema=None),\n",
      " 'auth_user_groups': Table('auth_user_groups', MetaData(bind=Engine(sqlite:///db.sqlite3)), Column('id', INTEGER(), table=<auth_user_groups>, primary_key=True, nullable=False), Column('user_id', INTEGER(), ForeignKey('auth_user.id'), table=<auth_user_groups>, nullable=False), Column('group_id', INTEGER(), ForeignKey('auth_group.id'), table=<auth_user_groups>, nullable=False), schema=None),\n",
      " 'auth_user_user_permissions': Table('auth_user_user_permissions', MetaData(bind=Engine(sqlite:///db.sqlite3)), Column('id', INTEGER(), table=<auth_user_user_permissions>, primary_key=True, nullable=False), Column('user_id', INTEGER(), ForeignKey('auth_user.id'), table=<auth_user_user_permissions>, nullable=False), Column('permission_id', INTEGER(), ForeignKey('auth_permission.id'), table=<auth_user_user_permissions>, nullable=False), schema=None),\n",
      " 'django_admin_log': Table('django_admin_log', MetaData(bind=Engine(sqlite:///db.sqlite3)), Column('id', INTEGER(), table=<django_admin_log>, primary_key=True, nullable=False), Column('action_time', DATETIME(), table=<django_admin_log>, nullable=False), Column('object_id', TEXT(), table=<django_admin_log>), Column('object_repr', VARCHAR(length=200), table=<django_admin_log>, nullable=False), Column('change_message', TEXT(), table=<django_admin_log>, nullable=False), Column('content_type_id', INTEGER(), ForeignKey('django_content_type.id'), table=<django_admin_log>), Column('user_id', INTEGER(), ForeignKey('auth_user.id'), table=<django_admin_log>, nullable=False), Column('action_flag', INTEGER(), table=<django_admin_log>, nullable=False), schema=None),\n",
      " 'django_content_type': Table('django_content_type', MetaData(bind=Engine(sqlite:///db.sqlite3)), Column('id', INTEGER(), table=<django_content_type>, primary_key=True, nullable=False), Column('app_label', VARCHAR(length=100), table=<django_content_type>, nullable=False), Column('model', VARCHAR(length=100), table=<django_content_type>, nullable=False), schema=None),\n",
      " 'django_migrations': Table('django_migrations', MetaData(bind=Engine(sqlite:///db.sqlite3)), Column('id', INTEGER(), table=<django_migrations>, primary_key=True, nullable=False), Column('app', VARCHAR(length=255), table=<django_migrations>, nullable=False), Column('name', VARCHAR(length=255), table=<django_migrations>, nullable=False), Column('applied', DATETIME(), table=<django_migrations>, nullable=False), schema=None),\n",
      " 'django_session': Table('django_session', MetaData(bind=Engine(sqlite:///db.sqlite3)), Column('session_key', VARCHAR(length=40), table=<django_session>, primary_key=True, nullable=False), Column('session_data', TEXT(), table=<django_session>, nullable=False), Column('expire_date', DATETIME(), table=<django_session>, nullable=False), schema=None),\n",
      " 'sqlite_sequence': Table('sqlite_sequence', MetaData(bind=Engine(sqlite:///db.sqlite3)), Column('name', NullType(), table=<sqlite_sequence>), Column('seq', NullType(), table=<sqlite_sequence>), schema=None)}\n"
     ]
    }
   ],
   "source": [
    "engine = sqlalchemy.create_engine(\"sqlite:///db.sqlite3\")\n",
    "metadata = sqlalchemy.MetaData(bind=engine)\n",
    "metadata.reflect()\n",
    "pprint.pprint(metadata.tables)"
   ]
  }
 ],
 "metadata": {
  "kernelspec": {
   "display_name": "Python 3",
   "language": "python",
   "name": "python3"
  },
  "language_info": {
   "codemirror_mode": {
    "name": "ipython",
    "version": 3
   },
   "file_extension": ".py",
   "mimetype": "text/x-python",
   "name": "python",
   "nbconvert_exporter": "python",
   "pygments_lexer": "ipython3",
   "version": "3.8.5"
  }
 },
 "nbformat": 4,
 "nbformat_minor": 4
}
