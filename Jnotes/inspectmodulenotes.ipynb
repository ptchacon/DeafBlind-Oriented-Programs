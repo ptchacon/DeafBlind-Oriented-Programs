{
 "cells": [
  {
   "cell_type": "code",
   "execution_count": 1,
   "metadata": {},
   "outputs": [],
   "source": [
    "import importlib, inspect, pprint, os, wx"
   ]
  },
  {
   "cell_type": "code",
   "execution_count": 2,
   "metadata": {},
   "outputs": [],
   "source": [
    "mod = importlib.import_module(\"wx\")"
   ]
  },
  {
   "cell_type": "code",
   "execution_count": 3,
   "metadata": {},
   "outputs": [
    {
     "name": "stdout",
     "output_type": "stream",
     "text": [
      "Inspecting a module/package...\n"
     ]
    }
   ],
   "source": [
    "print(\"Inspecting a module/package...\")\n",
    "classlist, funclist, varlist, modlist = [], [], [], []\n",
    "for item in inspect.getmembers(mod):\n",
    "    if inspect.isclass(item[1]): classlist.append(item)\n",
    "    elif inspect.isfunction(item[1]): funclist.append(item)\n",
    "    elif inspect.isbuiltin(getattr(mod, item[0])): funclist.append(item)\n",
    "    elif inspect.ismodule(item[1]): modlist.append(item)\n",
    "    else: varlist.append(item)"
   ]
  },
  {
   "cell_type": "code",
   "execution_count": 12,
   "metadata": {},
   "outputs": [
    {
     "name": "stdout",
     "output_type": "stream",
     "text": [
      "[Attribute(name='CanUndo', kind='method', defining_class=<class 'wx._core.Command'>, object=<built-in function CanUndo>),\n",
      " Attribute(name='ClassInfo', kind='property', defining_class=<class 'wx._core.Object'>, object=<property object at 0x000001386345B5E0>),\n",
      " Attribute(name='ClassName', kind='property', defining_class=<class 'wx._core.Object'>, object=<property object at 0x000001386345B540>),\n",
      " Attribute(name='Destroy', kind='method', defining_class=<class 'wx._core.Object'>, object=<built-in function Destroy>),\n",
      " Attribute(name='Do', kind='method', defining_class=<class 'wx._core.Command'>, object=<built-in function Do>),\n",
      " Attribute(name='GetClassInfo', kind='method', defining_class=<class 'wx._core.Object'>, object=<built-in function GetClassInfo>),\n",
      " Attribute(name='GetClassName', kind='method', defining_class=<class 'wx._core.Object'>, object=<built-in function GetClassName>),\n",
      " Attribute(name='GetName', kind='method', defining_class=<class 'wx._core.Command'>, object=<built-in function GetName>),\n",
      " Attribute(name='GetRefData', kind='method', defining_class=<class 'wx._core.Object'>, object=<built-in function GetRefData>),\n",
      " Attribute(name='IsSameAs', kind='method', defining_class=<class 'wx._core.Object'>, object=<built-in function IsSameAs>),\n",
      " Attribute(name='Name', kind='property', defining_class=<class 'wx._core.Command'>, object=<property object at 0x0000013863234310>),\n",
      " Attribute(name='Ref', kind='method', defining_class=<class 'wx._core.Object'>, object=<built-in function Ref>),\n",
      " Attribute(name='RefData', kind='property', defining_class=<class 'wx._core.Object'>, object=<property object at 0x000001386345B4A0>),\n",
      " Attribute(name='SetRefData', kind='method', defining_class=<class 'wx._core.Object'>, object=<built-in function SetRefData>),\n",
      " Attribute(name='UnRef', kind='method', defining_class=<class 'wx._core.Object'>, object=<built-in function UnRef>),\n",
      " Attribute(name='UnShare', kind='method', defining_class=<class 'wx._core.Object'>, object=<built-in function UnShare>),\n",
      " Attribute(name='Undo', kind='method', defining_class=<class 'wx._core.Command'>, object=<built-in function Undo>),\n",
      " Attribute(name='__class__', kind='data', defining_class=<class 'object'>, object=<class 'sip.wrappertype'>),\n",
      " Attribute(name='__delattr__', kind='method', defining_class=<class 'object'>, object=<slot wrapper '__delattr__' of 'object' objects>),\n",
      " Attribute(name='__dict__', kind='data', defining_class=<class 'sip.simplewrapper'>, object=<attribute '__dict__' of 'sip.simplewrapper' objects>),\n",
      " Attribute(name='__dir__', kind='method', defining_class=<class 'object'>, object=<method '__dir__' of 'object' objects>),\n",
      " Attribute(name='__doc__', kind='data', defining_class=<class 'wx._core.Command'>, object='Command(canUndo=False, name=EmptyString)\\n\\nwxCommand is a base class for modelling an application command, which\\nis an action usually performed by selecting a menu item, pressing a\\ntoolbar button or any other means provided by the application to\\nchange the data or view.'),\n",
      " Attribute(name='__eq__', kind='method', defining_class=<class 'object'>, object=<slot wrapper '__eq__' of 'object' objects>),\n",
      " Attribute(name='__format__', kind='method', defining_class=<class 'object'>, object=<method '__format__' of 'object' objects>),\n",
      " Attribute(name='__ge__', kind='method', defining_class=<class 'object'>, object=<slot wrapper '__ge__' of 'object' objects>),\n",
      " Attribute(name='__getattribute__', kind='method', defining_class=<class 'object'>, object=<slot wrapper '__getattribute__' of 'object' objects>),\n",
      " Attribute(name='__gt__', kind='method', defining_class=<class 'object'>, object=<slot wrapper '__gt__' of 'object' objects>),\n",
      " Attribute(name='__hash__', kind='method', defining_class=<class 'object'>, object=<slot wrapper '__hash__' of 'object' objects>),\n",
      " Attribute(name='__init__', kind='method', defining_class=<class 'sip.simplewrapper'>, object=<slot wrapper '__init__' of 'sip.simplewrapper' objects>),\n",
      " Attribute(name='__init_subclass__', kind='class method', defining_class=<class 'object'>, object=<method '__init_subclass__' of 'object' objects>),\n",
      " Attribute(name='__le__', kind='method', defining_class=<class 'object'>, object=<slot wrapper '__le__' of 'object' objects>),\n",
      " Attribute(name='__lt__', kind='method', defining_class=<class 'object'>, object=<slot wrapper '__lt__' of 'object' objects>),\n",
      " Attribute(name='__module__', kind='data', defining_class=<class 'wx._core.Command'>, object='wx._core'),\n",
      " Attribute(name='__ne__', kind='method', defining_class=<class 'object'>, object=<slot wrapper '__ne__' of 'object' objects>),\n",
      " Attribute(name='__new__', kind='static method', defining_class=<class 'sip.simplewrapper'>, object=<built-in method __new__ of sip.wrappertype object at 0x00007FFFB5EFB520>),\n",
      " Attribute(name='__reduce__', kind='method', defining_class=<class 'object'>, object=<method '__reduce__' of 'object' objects>),\n",
      " Attribute(name='__reduce_ex__', kind='method', defining_class=<class 'object'>, object=<method '__reduce_ex__' of 'object' objects>),\n",
      " Attribute(name='__repr__', kind='method', defining_class=<class 'object'>, object=<slot wrapper '__repr__' of 'object' objects>),\n",
      " Attribute(name='__setattr__', kind='method', defining_class=<class 'object'>, object=<slot wrapper '__setattr__' of 'object' objects>),\n",
      " Attribute(name='__sizeof__', kind='method', defining_class=<class 'object'>, object=<method '__sizeof__' of 'object' objects>),\n",
      " Attribute(name='__str__', kind='method', defining_class=<class 'object'>, object=<slot wrapper '__str__' of 'object' objects>),\n",
      " Attribute(name='__subclasshook__', kind='class method', defining_class=<class 'object'>, object=<method '__subclasshook__' of 'object' objects>),\n",
      " Attribute(name='__weakref__', kind='data', defining_class=<class 'wx._core.Object'>, object=<attribute '__weakref__' of 'Object' objects>)]\n"
     ]
    }
   ],
   "source": [
    "pprint.pprint(inspect.classify_class_attrs(wx.Command))"
   ]
  }
 ],
 "metadata": {
  "kernelspec": {
   "display_name": "Python 3",
   "language": "python",
   "name": "python3"
  },
  "language_info": {
   "codemirror_mode": {
    "name": "ipython",
    "version": 3
   },
   "file_extension": ".py",
   "mimetype": "text/x-python",
   "name": "python",
   "nbconvert_exporter": "python",
   "pygments_lexer": "ipython3",
   "version": "3.8.5"
  }
 },
 "nbformat": 4,
 "nbformat_minor": 4
}
